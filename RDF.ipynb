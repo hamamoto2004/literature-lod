{
  "nbformat": 4,
  "nbformat_minor": 0,
  "metadata": {
    "colab": {
      "provenance": []
    },
    "kernelspec": {
      "name": "python3",
      "display_name": "Python 3"
    },
    "language_info": {
      "name": "python"
    }
  },
  "cells": [
    {
      "cell_type": "markdown",
      "metadata": {
        "id": "dT_TPRsqfuQC"
      },
      "source": [
        "## RDFを作成"
      ]
    },
    {
      "cell_type": "code",
      "metadata": {
        "colab": {
          "base_uri": "https://localhost:8080/"
        },
        "id": "qR7Olcfi83BF",
        "outputId": "117ac764-8519-41ea-ab78-4852fbc2376d"
      },
      "source": [
        "!pip install rdflib"
      ],
      "execution_count": 1,
      "outputs": [
        {
          "output_type": "stream",
          "name": "stdout",
          "text": [
            "Collecting rdflib\n",
            "  Downloading rdflib-7.1.4-py3-none-any.whl.metadata (11 kB)\n",
            "Requirement already satisfied: pyparsing<4,>=2.1.0 in /usr/local/lib/python3.11/dist-packages (from rdflib) (3.2.3)\n",
            "Downloading rdflib-7.1.4-py3-none-any.whl (565 kB)\n",
            "\u001b[2K   \u001b[90m━━━━━━━━━━━━━━━━━━━━━━━━━━━━━━━━━━━━━━━━\u001b[0m \u001b[32m565.1/565.1 kB\u001b[0m \u001b[31m9.4 MB/s\u001b[0m eta \u001b[36m0:00:00\u001b[0m\n",
            "\u001b[?25hInstalling collected packages: rdflib\n",
            "Successfully installed rdflib-7.1.4\n"
          ]
        }
      ]
    },
    {
      "cell_type": "code",
      "metadata": {
        "colab": {
          "base_uri": "https://localhost:8080/"
        },
        "id": "UXcArR8EkHh_",
        "outputId": "df7e5cf0-b07f-4916-e18e-9f85c0985341"
      },
      "source": [
        "!pip install pydotplus\n",
        "!pip install graphviz"
      ],
      "execution_count": 2,
      "outputs": [
        {
          "output_type": "stream",
          "name": "stdout",
          "text": [
            "Requirement already satisfied: pydotplus in /usr/local/lib/python3.11/dist-packages (2.0.2)\n",
            "Requirement already satisfied: pyparsing>=2.0.1 in /usr/local/lib/python3.11/dist-packages (from pydotplus) (3.2.3)\n",
            "Requirement already satisfied: graphviz in /usr/local/lib/python3.11/dist-packages (0.21)\n"
          ]
        }
      ]
    },
    {
      "cell_type": "code",
      "metadata": {
        "colab": {
          "base_uri": "https://localhost:8080/"
        },
        "id": "hAOUuBffCyYh",
        "outputId": "b0ca9078-6cb9-41ce-ef94-9fad7b582bdb"
      },
      "source": [
        "#日本語フォント（今回は使用しないが使う場合はインストール）\n",
        "!apt-get -y install fonts-ipafont-gothic"
      ],
      "execution_count": 3,
      "outputs": [
        {
          "output_type": "stream",
          "name": "stdout",
          "text": [
            "Reading package lists... Done\n",
            "Building dependency tree... Done\n",
            "Reading state information... Done\n",
            "The following additional packages will be installed:\n",
            "  fonts-ipafont-mincho\n",
            "The following NEW packages will be installed:\n",
            "  fonts-ipafont-gothic fonts-ipafont-mincho\n",
            "0 upgraded, 2 newly installed, 0 to remove and 35 not upgraded.\n",
            "Need to get 8,237 kB of archives.\n",
            "After this operation, 28.7 MB of additional disk space will be used.\n",
            "Get:1 http://archive.ubuntu.com/ubuntu jammy/universe amd64 fonts-ipafont-gothic all 00303-21ubuntu1 [3,513 kB]\n",
            "Get:2 http://archive.ubuntu.com/ubuntu jammy/universe amd64 fonts-ipafont-mincho all 00303-21ubuntu1 [4,724 kB]\n",
            "Fetched 8,237 kB in 1s (5,526 kB/s)\n",
            "Selecting previously unselected package fonts-ipafont-gothic.\n",
            "(Reading database ... 126284 files and directories currently installed.)\n",
            "Preparing to unpack .../fonts-ipafont-gothic_00303-21ubuntu1_all.deb ...\n",
            "Unpacking fonts-ipafont-gothic (00303-21ubuntu1) ...\n",
            "Selecting previously unselected package fonts-ipafont-mincho.\n",
            "Preparing to unpack .../fonts-ipafont-mincho_00303-21ubuntu1_all.deb ...\n",
            "Unpacking fonts-ipafont-mincho (00303-21ubuntu1) ...\n",
            "Setting up fonts-ipafont-mincho (00303-21ubuntu1) ...\n",
            "update-alternatives: using /usr/share/fonts/opentype/ipafont-mincho/ipam.ttf to provide /usr/share/fonts/truetype/fonts-japanese-mincho.ttf (fonts-japanese-mincho.ttf) in auto mode\n",
            "Setting up fonts-ipafont-gothic (00303-21ubuntu1) ...\n",
            "update-alternatives: using /usr/share/fonts/opentype/ipafont-gothic/ipag.ttf to provide /usr/share/fonts/truetype/fonts-japanese-gothic.ttf (fonts-japanese-gothic.ttf) in auto mode\n",
            "Processing triggers for fontconfig (2.13.1-4.2ubuntu5) ...\n"
          ]
        }
      ]
    },
    {
      "cell_type": "code",
      "metadata": {
        "id": "V5lEx9k188Uf"
      },
      "source": [
        "from rdflib import Graph, Literal, RDF, URIRef, Namespace, XSD"
      ],
      "execution_count": 6,
      "outputs": []
    },
    {
      "cell_type": "code",
      "metadata": {
        "id": "s1ziGQqZCqwx"
      },
      "source": [
        "LIT = Namespace(\"http://example.org/lit/\")"
      ],
      "execution_count": 7,
      "outputs": []
    },
    {
      "cell_type": "code",
      "metadata": {
        "id": "1o0pWUB2HCp4",
        "colab": {
          "base_uri": "https://localhost:8080/"
        },
        "outputId": "2af71c68-9012-46ac-ebef-ef7acee691ca"
      },
      "source": [
        "\n",
        "# 空のグラフ作成\n",
        "g = Graph()\n",
        "g.bind(\"lit\", LIT)\n",
        "\n",
        "# リソースの作成\n",
        "author = LIT[\"Akutagawa_Ryunosuke\"]\n",
        "book = LIT[\"Rashomon\"]\n",
        "character = LIT[\"Servant\"]\n",
        "country = LIT[\"Japan\"]\n",
        "genre = LIT[\"ShortStory\"]\n",
        "\n",
        "# プロパティの定義（RDF的にはプロパティもURIなのでリソースと同じ扱い）\n",
        "hasAuthor = LIT[\"hasAuthor\"]\n",
        "hasCharacter = LIT[\"hasCharacter\"]\n",
        "writtenIn = LIT[\"writtenIn\"]\n",
        "hasGenre = LIT[\"hasGenre\"]\n",
        "bornIn = LIT[\"bornIn\"]\n",
        "\n",
        "# トリプルの追加\n",
        "\n",
        "# 作家\n",
        "g.add((author, RDF.type, LIT.Author))\n",
        "g.add((author, bornIn, country))\n",
        "\n",
        "# 作品\n",
        "g.add((book, RDF.type, LIT.Work))\n",
        "g.add((book, hasAuthor, author))\n",
        "g.add((book, hasCharacter, character))\n",
        "g.add((book, hasGenre, genre))\n",
        "\n",
        "# 登場人物\n",
        "g.add((character, RDF.type, LIT.Character))\n"
      ],
      "execution_count": 28,
      "outputs": [
        {
          "output_type": "execute_result",
          "data": {
            "text/plain": [
              "<Graph identifier=Nb3d2edc14c5b410baacdfeccc90e0052 (<class 'rdflib.graph.Graph'>)>"
            ]
          },
          "metadata": {},
          "execution_count": 28
        }
      ]
    },
    {
      "cell_type": "code",
      "metadata": {
        "colab": {
          "base_uri": "https://localhost:8080/"
        },
        "id": "3jFZoY5zToJu",
        "outputId": "4a6861d6-24f0-4d3a-fcf4-2fcbc2301eec"
      },
      "source": [
        "#Turtle形式で出力\n",
        "print(g.serialize(format=\"turtle\")) #turtle, nt, xmlなど"
      ],
      "execution_count": 26,
      "outputs": [
        {
          "output_type": "stream",
          "name": "stdout",
          "text": [
            "@prefix lit: <http://example.org/lit/> .\n",
            "\n",
            "lit:Rashomon a lit:Work ;\n",
            "    lit:hasAuthor lit:Akutagawa_Ryunosuke ;\n",
            "    lit:hasCharacter lit:Servant ;\n",
            "    lit:hasGenre lit:ShortStory .\n",
            "\n",
            "lit:Akutagawa_Ryunosuke a lit:Author ;\n",
            "    lit:bornIn lit:Japan .\n",
            "\n",
            "lit:Servant a lit:Character .\n",
            "\n",
            "\n"
          ]
        }
      ]
    },
    {
      "cell_type": "code",
      "metadata": {
        "id": "UGnyJhi2Z4sC",
        "colab": {
          "base_uri": "https://localhost:8080/"
        },
        "outputId": "d7da2c93-6368-4115-98bc-0759992f2891"
      },
      "source": [
        "g.serialize(destination=\"book.ttl\", format=\"turtle\") #turtle, nt, xmlなど"
      ],
      "execution_count": 21,
      "outputs": [
        {
          "output_type": "execute_result",
          "data": {
            "text/plain": [
              "<Graph identifier=Na0d31c2df77f4a2db9312ef7633cadcf (<class 'rdflib.graph.Graph'>)>"
            ]
          },
          "metadata": {},
          "execution_count": 21
        }
      ]
    },
    {
      "cell_type": "code",
      "metadata": {
        "colab": {
          "base_uri": "https://localhost:8080/"
        },
        "id": "MuTW3jh4sAjj",
        "outputId": "309becdc-f96e-40b3-f0ca-ad04433de0d3"
      },
      "source": [
        "#先程作成したttlファイルを読み込む\n",
        "load_g = Graph()\n",
        "load_g.parse(\"book.ttl\", format='turtle')\n",
        "print(load_g.serialize(format=\"turtle\")) #turtleを標準出力"
      ],
      "execution_count": 22,
      "outputs": [
        {
          "output_type": "stream",
          "name": "stdout",
          "text": [
            "@prefix lit: <http://example.org/lit/> .\n",
            "\n",
            "lit:Rashomon a lit:Work ;\n",
            "    lit:hasAuthor lit:Akutagawa_Ryunosuke ;\n",
            "    lit:hasCharacter lit:Servant ;\n",
            "    lit:hasGenre lit:ShortStory .\n",
            "\n",
            "lit:Akutagawa_Ryunosuke a lit:Author ;\n",
            "    lit:bornIn lit:Japan .\n",
            "\n",
            "lit:Servant a lit:Character .\n",
            "\n",
            "\n"
          ]
        }
      ]
    },
    {
      "cell_type": "markdown",
      "metadata": {
        "id": "NpIkMyXBmpCc"
      },
      "source": [
        "## RDFの可視化"
      ]
    },
    {
      "cell_type": "code",
      "metadata": {
        "id": "2LurtCdSml4j"
      },
      "source": [
        "#必要ライブラリのインポート\n",
        "import io\n",
        "import pydotplus\n",
        "from IPython.display import display, Image\n",
        "from rdflib.tools.rdf2dot import rdf2dot"
      ],
      "execution_count": 23,
      "outputs": []
    },
    {
      "cell_type": "code",
      "metadata": {
        "colab": {
          "base_uri": "https://localhost:8080/",
          "height": 196
        },
        "id": "HZ-BfpkCkUeZ",
        "outputId": "af303d4a-2a2c-4294-bcf8-b22b69736c88"
      },
      "source": [
        "#先程作成したttlファイルを読み込む\n",
        "load_g = Graph()\n",
        "load_g.parse(\"book.ttl\", format='turtle')\n",
        "\n",
        "stream = io.StringIO()\n",
        "rdf2dot(load_g, stream, opts = {display}) #RDFをDOT言語形式に変換\n",
        "dg = pydotplus.graph_from_dot_data(stream.getvalue()) #pydotplusのオブジェクトに変換\n",
        "png = dg.create_png()\n",
        "display(Image(png))"
      ],
      "execution_count": 29,
      "outputs": [
        {
          "output_type": "display_data",
          "data": {
            "image/png": "[encoded data removed]",
            "text/plain": [
              "<IPython.core.display.Image object>"
            ]
          },
          "metadata": {}
        }
      ]
    }
  ]
}